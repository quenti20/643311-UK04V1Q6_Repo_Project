{
 "cells": [
  {
   "cell_type": "code",
   "execution_count": 6,
   "metadata": {
    "colab": {
     "base_uri": "https://localhost:8080/"
    },
    "id": "92heyo14yg7X",
    "outputId": "85a9b0b4-2f56-480e-a429-b7b8778bde22"
   },
   "outputs": [],
   "source": [
    "#from google.colab import drive\n",
    "#drive.mount('/content/drive')\n",
    "\n",
    "import os\n",
    "dataroot = '/content/drive/MyDrive/dataset/'\n"
   ]
  },
  {
   "cell_type": "code",
   "execution_count": 7,
   "metadata": {
    "id": "gBS-wZt3-G6v"
   },
   "outputs": [],
   "source": [
    "import numpy as np\n",
    "import pandas as pd\n",
    "import matplotlib.pyplot as plt\n",
    "import cv2\n",
    "import os \n",
    "import tensorflow as tf "
   ]
  },
  {
   "cell_type": "code",
   "execution_count": 8,
   "metadata": {
    "id": "uvkxpCvY-xH-"
   },
   "outputs": [],
   "source": [
    "img_array = cv2.imread('/content/drive/MyDrive/dataset/Train/angry/Aishwarya_Rai67.png')\n"
   ]
  },
  {
   "cell_type": "code",
   "execution_count": 9,
   "metadata": {
    "colab": {
     "base_uri": "https://localhost:8080/"
    },
    "id": "IjVq3a3nCjV2",
    "outputId": "e8e00182-6c20-49a0-8c9b-27474c69022b"
   },
   "outputs": [
    {
     "ename": "AttributeError",
     "evalue": "'NoneType' object has no attribute 'shape'",
     "output_type": "error",
     "traceback": [
      "\u001b[1;31m---------------------------------------------------------------------------\u001b[0m",
      "\u001b[1;31mAttributeError\u001b[0m                            Traceback (most recent call last)",
      "Input \u001b[1;32mIn [9]\u001b[0m, in \u001b[0;36m<cell line: 1>\u001b[1;34m()\u001b[0m\n\u001b[1;32m----> 1\u001b[0m \u001b[43mimg_array\u001b[49m\u001b[38;5;241;43m.\u001b[39;49m\u001b[43mshape\u001b[49m\n",
      "\u001b[1;31mAttributeError\u001b[0m: 'NoneType' object has no attribute 'shape'"
     ]
    }
   ],
   "source": [
    "img_array.shape"
   ]
  },
  {
   "cell_type": "code",
   "execution_count": null,
   "metadata": {
    "colab": {
     "base_uri": "https://localhost:8080/",
     "height": 286
    },
    "id": "DA7QAEHrCnkN",
    "outputId": "76227a1a-3203-4e5a-e6f7-8b3effac2bb8"
   },
   "outputs": [],
   "source": [
    "plt.imshow(img_array)#BGR"
   ]
  },
  {
   "cell_type": "code",
   "execution_count": null,
   "metadata": {
    "id": "Hsxa5NjHC_WD"
   },
   "outputs": [],
   "source": [
    "Datadirectory = \"/content/drive/MyDrive/dataset/Train/\"\n",
    "Classes = [\"angry\",\"happy\",\"neutral\",\"sad\"]\n"
   ]
  },
  {
   "cell_type": "code",
   "execution_count": null,
   "metadata": {
    "colab": {
     "base_uri": "https://localhost:8080/",
     "height": 269
    },
    "id": "_2mqHLjnDaTc",
    "outputId": "73f19218-8496-4d19-ed3d-a8ddca00da99"
   },
   "outputs": [],
   "source": [
    "for category in Classes:\n",
    "  path = os.path.join(Datadirectory,category)\n",
    "  for img in os.listdir(path):\n",
    "    img_array = cv2.imread(os.path.join(path,img))\n",
    "    plt.imshow(cv2.cvtColor(img_array,cv2.COLOR_BGR2RGB))\n",
    "    plt.show()\n",
    "    break\n",
    "  break"
   ]
  },
  {
   "cell_type": "code",
   "execution_count": null,
   "metadata": {
    "colab": {
     "base_uri": "https://localhost:8080/",
     "height": 269
    },
    "id": "OuivPeI1DvVo",
    "outputId": "ca216f33-0cfe-4c6a-c4ac-dba801f2e4b5"
   },
   "outputs": [],
   "source": [
    "img_size = 224\n",
    "new_array = cv2.resize(img_array,(img_size,img_size))\n",
    "plt.imshow(cv2.cvtColor(new_array,cv2.COLOR_BGR2RGB))\n",
    "plt.show()"
   ]
  },
  {
   "cell_type": "code",
   "execution_count": null,
   "metadata": {
    "colab": {
     "base_uri": "https://localhost:8080/"
    },
    "id": "to9ayGqfEImO",
    "outputId": "008f01d2-6ac2-46cf-9a71-50d4602dba54"
   },
   "outputs": [],
   "source": [
    "new_array.shape"
   ]
  },
  {
   "cell_type": "code",
   "execution_count": 10,
   "metadata": {
    "id": "DZBDMgWCEM1H"
   },
   "outputs": [],
   "source": [
    "training_Data = []#data array\n",
    "\n",
    "def create_training_Data():\n",
    "  for category in Classes:\n",
    "    path = os.path.join(Datadirectory,category)\n",
    "    class_num = Classes.index(category) # 0 1 label\n",
    "    for img in os.listdir(path):\n",
    "      try:\n",
    "          img_array = cv2.imread(os.path.join(path,img))\n",
    "          new_array = cv2.resize(img_array,(img_size,img_size))\n",
    "          training_Data.append([new_array,class_num])\n",
    "      except Exception as e:\n",
    "        pass\n",
    "\n"
   ]
  },
  {
   "cell_type": "code",
   "execution_count": null,
   "metadata": {
    "id": "vBPxmPF6G5oX"
   },
   "outputs": [],
   "source": [
    "create_training_Data()"
   ]
  },
  {
   "cell_type": "code",
   "execution_count": null,
   "metadata": {
    "colab": {
     "base_uri": "https://localhost:8080/"
    },
    "id": "vlbleATpHHLr",
    "outputId": "37aad6a1-b55b-4389-e084-fc29f78196c8"
   },
   "outputs": [],
   "source": [
    "print(len(training_Data))"
   ]
  },
  {
   "cell_type": "code",
   "execution_count": null,
   "metadata": {
    "id": "h0sWRqb3VMB_"
   },
   "outputs": [],
   "source": [
    "import random \n",
    "random.shuffle(training_Data)"
   ]
  },
  {
   "cell_type": "code",
   "execution_count": null,
   "metadata": {
    "id": "zbCFgxQVVgqO"
   },
   "outputs": [],
   "source": [
    "X=[]\n",
    "y=[]\n",
    "\n",
    "for features,label in training_Data:\n",
    "  X.append(features)\n",
    "  y.append(label)\n",
    "\n",
    "X= np.array(X).reshape(-1,img_size,img_size,3)# converting it to 4 dimensions"
   ]
  },
  {
   "cell_type": "code",
   "execution_count": null,
   "metadata": {
    "colab": {
     "base_uri": "https://localhost:8080/"
    },
    "id": "TTNwrT1TV4BT",
    "outputId": "39b63e09-923f-490d-f361-3e6271029eab"
   },
   "outputs": [],
   "source": [
    "X.shape"
   ]
  },
  {
   "cell_type": "code",
   "execution_count": null,
   "metadata": {
    "id": "JIHoEHAKWRxN"
   },
   "outputs": [],
   "source": [
    "\n",
    "X= X/255.0 #normalization\n"
   ]
  },
  {
   "cell_type": "code",
   "execution_count": null,
   "metadata": {
    "colab": {
     "base_uri": "https://localhost:8080/"
    },
    "id": "y8VNftE4WqTh",
    "outputId": "6b2d264d-819d-4b2d-b5fa-deb995562482"
   },
   "outputs": [],
   "source": [
    "Y = np.array(y)\n",
    "Y.shape"
   ]
  },
  {
   "cell_type": "code",
   "execution_count": null,
   "metadata": {
    "id": "XdZDGaIWWsOw"
   },
   "outputs": [],
   "source": [
    "import tensorflow as tf \n",
    "from tensorflow import keras\n",
    "from keras import layers\n",
    "import platform\n",
    "from keras.applications import MobileNetV2\n",
    "\n",
    "import pathlib"
   ]
  },
  {
   "cell_type": "code",
   "execution_count": null,
   "metadata": {
    "colab": {
     "base_uri": "https://localhost:8080/"
    },
    "id": "lHrLEqFZXY1e",
    "outputId": "e4c117e8-f6bb-4179-aef3-3d82fd0b5cb8"
   },
   "outputs": [],
   "source": [
    "model = MobileNetV2()\n",
    "model.summary()"
   ]
  },
  {
   "cell_type": "code",
   "execution_count": null,
   "metadata": {
    "id": "LYOOS2xrX70D"
   },
   "outputs": [],
   "source": []
  },
  {
   "cell_type": "markdown",
   "metadata": {
    "id": "cnEqJz2sbo7N"
   },
   "source": [
    "# New Section"
   ]
  },
  {
   "cell_type": "code",
   "execution_count": null,
   "metadata": {
    "id": "T1agbwrhbq6Z"
   },
   "outputs": [],
   "source": [
    "#Transfer Learning and weights tuning \n",
    "\n",
    "base_input = model.layers[0].input\n"
   ]
  },
  {
   "cell_type": "code",
   "execution_count": null,
   "metadata": {
    "id": "k3lHrQ6obwVS"
   },
   "outputs": [],
   "source": [
    "base_output = model.layers[-2].output"
   ]
  },
  {
   "cell_type": "code",
   "execution_count": null,
   "metadata": {
    "colab": {
     "base_uri": "https://localhost:8080/"
    },
    "id": "33u_UWjJcZh4",
    "outputId": "e75dffd0-8d8e-401f-e8f7-27ecd90a4665"
   },
   "outputs": [],
   "source": [
    "base_output"
   ]
  },
  {
   "cell_type": "code",
   "execution_count": null,
   "metadata": {
    "id": "o4_SEkuBcbnF"
   },
   "outputs": [],
   "source": [
    "final_output = layers.Dense(128)(base_output)\n",
    "final_output = layers.Activation('relu')(final_output)\n",
    "final_output = layers.Dense(64)(final_output)\n",
    "final_output = layers.Activation('relu')(final_output)\n",
    "final_output = layers.Dense(4,activation='softmax')(final_output)\n"
   ]
  },
  {
   "cell_type": "code",
   "execution_count": null,
   "metadata": {
    "colab": {
     "base_uri": "https://localhost:8080/"
    },
    "id": "o8hDT1wJdgMf",
    "outputId": "8e58f167-e6f3-405a-daaa-161d77f2f98f"
   },
   "outputs": [],
   "source": [
    "final_output"
   ]
  },
  {
   "cell_type": "code",
   "execution_count": null,
   "metadata": {
    "id": "Cz48aW9ddh8r"
   },
   "outputs": [],
   "source": [
    "new_model = keras.Model(inputs = base_input,outputs = final_output)"
   ]
  },
  {
   "cell_type": "code",
   "execution_count": null,
   "metadata": {
    "colab": {
     "base_uri": "https://localhost:8080/"
    },
    "id": "rERWEItRdzf_",
    "outputId": "38ef3e76-39d6-4fa2-a929-f981050d9484"
   },
   "outputs": [],
   "source": [
    "new_model.summary()"
   ]
  },
  {
   "cell_type": "code",
   "execution_count": null,
   "metadata": {
    "id": "v7SaabveeALu"
   },
   "outputs": [],
   "source": [
    "\n",
    "new_model.compile(loss = \"sparse_categorical_crossentropy\", optimizer = \"adam\" , metrics = [\"accuracy\"])"
   ]
  },
  {
   "cell_type": "code",
   "execution_count": null,
   "metadata": {
    "colab": {
     "base_uri": "https://localhost:8080/"
    },
    "id": "-FB9Zv0Pezvg",
    "outputId": "76c41edb-424c-4ded-b98d-f5f94077304b"
   },
   "outputs": [],
   "source": [
    "new_model.fit(X,Y,batch_size=10,verbose=2,epochs=25)\n"
   ]
  },
  {
   "cell_type": "code",
   "execution_count": null,
   "metadata": {
    "id": "VRhE_i5ofD2j"
   },
   "outputs": [],
   "source": [
    "new_model.save('my_model.h5')"
   ]
  },
  {
   "cell_type": "code",
   "execution_count": null,
   "metadata": {
    "id": "lTeveiNkBIdP"
   },
   "outputs": [],
   "source": []
  },
  {
   "cell_type": "code",
   "execution_count": null,
   "metadata": {
    "id": "P4pC4XuOhNWZ"
   },
   "outputs": [],
   "source": [
    "from keras.models import load_model\n",
    "new_model = load_model('my_model.h5')\n"
   ]
  },
  {
   "cell_type": "code",
   "execution_count": null,
   "metadata": {
    "colab": {
     "base_uri": "https://localhost:8080/",
     "height": 286
    },
    "id": "ORKeKrxIhyKM",
    "outputId": "5caeb798-33fd-4550-a79b-87f2fcc0c930"
   },
   "outputs": [],
   "source": [
    "frame = cv2.imread(\"/content/drive/MyDrive/dataset/Test/angry/Lata_Mangeshkar48.png\")\n",
    "frame.shape\n",
    "plt.imshow(frame)"
   ]
  },
  {
   "cell_type": "code",
   "execution_count": null,
   "metadata": {
    "id": "ye1LvyZ2onFi"
   },
   "outputs": [],
   "source": [
    "frame_image = cv2.resize(frame,(224,224))\n",
    "frame_image = np.expand_dims(frame_image,axis =0)\n",
    "frame_image= frame_image/255.0"
   ]
  },
  {
   "cell_type": "code",
   "execution_count": null,
   "metadata": {
    "colab": {
     "base_uri": "https://localhost:8080/"
    },
    "id": "bxktK49HpdiK",
    "outputId": "7e96dc28-c2f4-4ae4-c2b7-10fa65d0b91d"
   },
   "outputs": [],
   "source": [
    "predictions = new_model.predict(frame_image) \n"
   ]
  },
  {
   "cell_type": "code",
   "execution_count": null,
   "metadata": {
    "colab": {
     "base_uri": "https://localhost:8080/"
    },
    "id": "tbahXrgrpqAe",
    "outputId": "a8ab8b37-bdc7-4f98-8c16-7d419ffb63a9"
   },
   "outputs": [],
   "source": [
    "np.argmax(predictions)"
   ]
  },
  {
   "cell_type": "code",
   "execution_count": null,
   "metadata": {
    "id": "ndXhTKEep14h"
   },
   "outputs": [],
   "source": [
    "Classes = [\"angry\", \"happy\", \"neutral\", \"sad\"]\n",
    "Datadirectory = \"/content/drive/MyDrive/dataset/Test/\"\n",
    "\n",
    "img_size = 224\n",
    "\n",
    "testing_data = []\n",
    "\n",
    "def create_testing_data():\n",
    "    for category in Classes:\n",
    "        path = os.path.join(Datadirectory, category)\n",
    "        class_num = Classes.index(category)\n",
    "        for img in os.listdir(path):\n",
    "            try:\n",
    "                img_array = cv2.imread(os.path.join(path, img))\n",
    "                new_array = cv2.resize(img_array, (img_size, img_size))\n",
    "                testing_data.append([new_array, class_num])\n",
    "            except Exception as e:\n",
    "                pass\n"
   ]
  },
  {
   "cell_type": "code",
   "execution_count": null,
   "metadata": {
    "id": "VX5q60KEEo1U"
   },
   "outputs": [],
   "source": [
    "create_testing_data()\n",
    "\n",
    "#testing_data = np.array(testing_data)\n"
   ]
  },
  {
   "cell_type": "code",
   "execution_count": null,
   "metadata": {
    "colab": {
     "base_uri": "https://localhost:8080/",
     "height": 166
    },
    "id": "enfAcx1JFiht",
    "outputId": "bdd93cca-fcd5-4c6a-c810-f892fe439c25"
   },
   "outputs": [],
   "source": []
  },
  {
   "cell_type": "code",
   "execution_count": null,
   "metadata": {
    "colab": {
     "base_uri": "https://localhost:8080/"
    },
    "id": "TVvwYhSIEqUi",
    "outputId": "bf1e1f88-1aa5-4cd6-cb08-86d8d305f18a"
   },
   "outputs": [],
   "source": [
    "X_test = []\n",
    "y_test = []\n",
    "\n",
    "for features, label in testing_data:\n",
    "    X_test.append(features)\n",
    "    y_test.append(label)\n",
    "\n",
    "X_test = np.array(X_test)\n",
    "X_test = X_test / 255.0\n",
    "y_test = np.array(y_test)\n",
    "print(y_test.size)\n",
    "print(X_test.shape)"
   ]
  },
  {
   "cell_type": "code",
   "execution_count": null,
   "metadata": {
    "colab": {
     "base_uri": "https://localhost:8080/"
    },
    "id": "XDZti9ecttD2",
    "outputId": "00642e22-6b75-4847-8059-f027ebeefd23"
   },
   "outputs": [],
   "source": [
    "y_pred = new_model.predict(X_test)\n"
   ]
  },
  {
   "cell_type": "code",
   "execution_count": null,
   "metadata": {
    "colab": {
     "base_uri": "https://localhost:8080/"
    },
    "id": "_KeJOX2mG7mK",
    "outputId": "cb420557-92e7-45a6-c6ca-d4e32fee471a"
   },
   "outputs": [],
   "source": [
    "y_pred.shape"
   ]
  },
  {
   "cell_type": "code",
   "execution_count": null,
   "metadata": {
    "colab": {
     "base_uri": "https://localhost:8080/",
     "height": 483
    },
    "id": "CmY9SaYvuR3Y",
    "outputId": "cb7ef9c1-090f-4c68-95ef-95d783db02d1"
   },
   "outputs": [],
   "source": [
    "from sklearn.metrics import confusion_matrix\n",
    "import matplotlib.pyplot as plt\n",
    "\n",
    "cm = confusion_matrix(y_test, y_pred.argmax(axis=1))\n",
    "\n",
    "fig, ax = plt.subplots(figsize=(8, 8))\n",
    "ax.imshow(cm)\n",
    "ax.grid(False)\n",
    "ax.xaxis.set(ticks=(0, 1, 2, 3), ticklabels=('angry', 'happy', 'neutral', 'sad'))\n",
    "ax.yaxis.set(ticks=(0, 1, 2, 3), ticklabels=('angry', 'happy', 'neutral', 'sad'))\n",
    "ax.set_ylim(3.5, -0.5)\n",
    "for i in range(4):\n",
    "    for j in range(4):\n",
    "        ax.text(j, i, cm[i, j], ha='center', va='center', color='white')\n",
    "plt.show()\n"
   ]
  },
  {
   "cell_type": "code",
   "execution_count": null,
   "metadata": {
    "colab": {
     "base_uri": "https://localhost:8080/"
    },
    "id": "vX2_f-bFuUfZ",
    "outputId": "c1b7fe08-de5c-4705-8730-1b015733816b"
   },
   "outputs": [],
   "source": [
    "loss, accuracy = new_model.evaluate(X_test, y_test, verbose=2)\n",
    "\n",
    "print('Loss: {:.4f}'.format(loss))\n",
    "print('Accuracy: {:.4f}'.format(accuracy))"
   ]
  },
  {
   "cell_type": "code",
   "execution_count": null,
   "metadata": {
    "colab": {
     "base_uri": "https://localhost:8080/"
    },
    "id": "JB6Q8HSfvtzc",
    "outputId": "7feb4b6c-08a4-463f-b51c-b6873c42babc"
   },
   "outputs": [],
   "source": [
    "y_test.size\n",
    "y_pred.size\n"
   ]
  },
  {
   "cell_type": "code",
   "execution_count": null,
   "metadata": {
    "colab": {
     "base_uri": "https://localhost:8080/",
     "height": 295
    },
    "id": "K4PiGFVo0Wc5",
    "outputId": "6bac34c4-11e4-4455-e055-699b4b93c18f"
   },
   "outputs": [],
   "source": [
    "import matplotlib.pyplot as plt\n",
    "\n",
    "# y_test = np.random.randint(0, 4, size=738)\n",
    "# y_pred = np.random.randint(0, 4, size=(738,10))\n",
    "\n",
    "\n",
    "plt.scatter(y_test,y_pred.argmax(axis=1))\n",
    "plt.xlabel('True Labels')\n",
    "plt.ylabel('Predicted Labels')\n",
    "plt.title('True vs Predicted Labels')\n",
    "plt.show()"
   ]
  },
  {
   "cell_type": "code",
   "execution_count": null,
   "metadata": {
    "colab": {
     "base_uri": "https://localhost:8080/"
    },
    "id": "hGvyNQs42SGR",
    "outputId": "2f92d712-7f3f-4b0a-acdc-6ed79be376b6"
   },
   "outputs": [],
   "source": [
    "from sklearn.metrics import classification_report\n",
    "\n",
    "class_names = ['angry', 'happy', 'neutral', 'sad']\n",
    "\n",
    "y_pred_classes = np.argmax(y_pred, axis=1)\n",
    "print(classification_report(y_test, y_pred_classes, target_names=class_names))\n"
   ]
  },
  {
   "cell_type": "code",
   "execution_count": null,
   "metadata": {
    "colab": {
     "base_uri": "https://localhost:8080/"
    },
    "id": "AYNBlDd7dQDA",
    "outputId": "3d6ced22-3df1-4e64-9765-5eb934f36dea"
   },
   "outputs": [],
   "source": [
    "from sklearn.metrics import roc_curve, auc\n",
    "import matplotlib.pyplot as plt\n",
    "import numpy as np\n",
    "\n",
    "y_pred_prob = new_model.predict(X_test)\n",
    "\n",
    "\n"
   ]
  },
  {
   "cell_type": "code",
   "execution_count": null,
   "metadata": {
    "colab": {
     "base_uri": "https://localhost:8080/",
     "height": 295
    },
    "id": "IICdc9Ia2Zmg",
    "outputId": "ba495491-d3bc-4740-f826-5bc3fd652609"
   },
   "outputs": [],
   "source": [
    "from sklearn.metrics import roc_curve, auc\n",
    "import matplotlib.pyplot as plt\n",
    "import numpy as np\n",
    "\n",
    "# y_test is the true labels and y_pred_prob is the predicted probabilities\n",
    "# y_test and y_pred_prob should both have shape (n_samples, n_classes)\n",
    "\n",
    "n_class = 4\n",
    "# Compute the ROC curve and ROC area for each class\n",
    "fpr = {}\n",
    "tpr = {}\n",
    "thresh ={}\n",
    "\n",
    "n_class = 4\n",
    "\n",
    "for i in range(n_class):    \n",
    "    fpr[i], tpr[i], thresh[i] = roc_curve(y_test, y_pred_prob[:,i], pos_label=i)\n",
    "    \n",
    "# plotting    \n",
    "plt.plot(fpr[0], tpr[0], linestyle='--',color='orange', label='Class 0 vs Rest')\n",
    "plt.plot(fpr[1], tpr[1], linestyle='--',color='green', label='Class 1 vs Rest')\n",
    "plt.plot(fpr[2], tpr[2], linestyle='--',color='blue', label='Class 2 vs Rest')\n",
    "plt.plot(fpr[3], tpr[3], linestyle='--',color='red', label='Class 3 vs Rest')\n",
    "plt.title('Multiclass ROC curve')\n",
    "plt.xlabel('False Positive Rate')\n",
    "plt.ylabel('True Positive rate')\n",
    "plt.legend(loc='best')\n",
    "plt.savefig('Multiclass ROC',dpi=300); "
   ]
  },
  {
   "cell_type": "code",
   "execution_count": null,
   "metadata": {
    "colab": {
     "base_uri": "https://localhost:8080/"
    },
    "id": "FETBG3nga8OG",
    "outputId": "042ae8a7-579e-47a7-f784-6240f93f4bd8"
   },
   "outputs": [],
   "source": [
    "from sklearn.metrics import roc_auc_score\n",
    "import numpy as np\n",
    "\n",
    "auc_roc = []\n",
    "\n",
    "for i in range(n_class):\n",
    "  y_true_i = np.array([1 if y==i else 0 for y in y_test])\n",
    "  y_pred_i = y_pred_prob[:,i]\n",
    "  auc_i = roc_auc_score(y_true_i,y_pred_i)\n",
    "  auc_roc.append(auc_i)\n",
    "\n",
    "mean_auc_roc = np.mean(auc_roc)\n",
    "auc_roc"
   ]
  },
  {
   "cell_type": "code",
   "execution_count": null,
   "metadata": {
    "id": "Kanu8wvjlv1W"
   },
   "outputs": [],
   "source": []
  }
 ],
 "metadata": {
  "accelerator": "GPU",
  "colab": {
   "provenance": []
  },
  "gpuClass": "standard",
  "kernelspec": {
   "display_name": "Python 3 (ipykernel)",
   "language": "python",
   "name": "python3"
  },
  "language_info": {
   "codemirror_mode": {
    "name": "ipython",
    "version": 3
   },
   "file_extension": ".py",
   "mimetype": "text/x-python",
   "name": "python",
   "nbconvert_exporter": "python",
   "pygments_lexer": "ipython3",
   "version": "3.10.6"
  }
 },
 "nbformat": 4,
 "nbformat_minor": 1
}
